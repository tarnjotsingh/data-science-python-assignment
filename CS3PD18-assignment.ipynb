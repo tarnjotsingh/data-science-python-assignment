{
 "cells": [
  {
   "cell_type": "markdown",
   "metadata": {},
   "source": [
    "# Task 1 for python assignment"
   ]
  },
  {
   "cell_type": "code",
   "execution_count": 146,
   "metadata": {},
   "outputs": [],
   "source": [
    "import pandas as pa\n",
    "import numpy as np\n",
    "import seaborn as sns"
   ]
  },
  {
   "cell_type": "code",
   "execution_count": 147,
   "metadata": {},
   "outputs": [],
   "source": [
    "df = pa.read_csv('./data/metro.csv')"
   ]
  },
  {
   "cell_type": "markdown",
   "metadata": {},
   "source": [
    "## Count the number of null values in each column"
   ]
  },
  {
   "cell_type": "code",
   "execution_count": 148,
   "metadata": {},
   "outputs": [
    {
     "data": {
      "text/plain": [
       "trip_id                   0\n",
       "duration                  0\n",
       "start_time                0\n",
       "end_time                  0\n",
       "start_station             0\n",
       "start_lat               559\n",
       "start_lon               559\n",
       "end_station               0\n",
       "end_lat                1838\n",
       "end_lon                1838\n",
       "bike_id                   0\n",
       "plan_duration             0\n",
       "trip_route_category       0\n",
       "passholder_type           0\n",
       "dtype: int64"
      ]
     },
     "execution_count": 148,
     "metadata": {},
     "output_type": "execute_result"
    }
   ],
   "source": [
    "df.isna().sum()"
   ]
  },
  {
   "cell_type": "code",
   "execution_count": 149,
   "metadata": {},
   "outputs": [
    {
     "data": {
      "text/html": [
       "<div>\n",
       "<style scoped>\n",
       "    .dataframe tbody tr th:only-of-type {\n",
       "        vertical-align: middle;\n",
       "    }\n",
       "\n",
       "    .dataframe tbody tr th {\n",
       "        vertical-align: top;\n",
       "    }\n",
       "\n",
       "    .dataframe thead th {\n",
       "        text-align: right;\n",
       "    }\n",
       "</style>\n",
       "<table border=\"1\" class=\"dataframe\">\n",
       "  <thead>\n",
       "    <tr style=\"text-align: right;\">\n",
       "      <th></th>\n",
       "      <th>trip_id</th>\n",
       "      <th>duration</th>\n",
       "      <th>start_time</th>\n",
       "      <th>end_time</th>\n",
       "      <th>start_station</th>\n",
       "      <th>start_lat</th>\n",
       "      <th>start_lon</th>\n",
       "      <th>end_station</th>\n",
       "      <th>end_lat</th>\n",
       "      <th>end_lon</th>\n",
       "      <th>bike_id</th>\n",
       "      <th>plan_duration</th>\n",
       "      <th>trip_route_category</th>\n",
       "      <th>passholder_type</th>\n",
       "    </tr>\n",
       "  </thead>\n",
       "  <tbody>\n",
       "    <tr>\n",
       "      <th>50</th>\n",
       "      <td>94904101</td>\n",
       "      <td>6</td>\n",
       "      <td>2018-07-01 08:00:00</td>\n",
       "      <td>2018-07-01 08:06:00</td>\n",
       "      <td>4215</td>\n",
       "      <td>34.014309</td>\n",
       "      <td>-118.491341</td>\n",
       "      <td>3000</td>\n",
       "      <td>NaN</td>\n",
       "      <td>NaN</td>\n",
       "      <td>12070</td>\n",
       "      <td>1</td>\n",
       "      <td>One Way</td>\n",
       "      <td>One Day Pass</td>\n",
       "    </tr>\n",
       "    <tr>\n",
       "      <th>198</th>\n",
       "      <td>94931099</td>\n",
       "      <td>30</td>\n",
       "      <td>2018-07-01 12:18:00</td>\n",
       "      <td>2018-07-01 12:48:00</td>\n",
       "      <td>3032</td>\n",
       "      <td>34.049889</td>\n",
       "      <td>-118.255882</td>\n",
       "      <td>3000</td>\n",
       "      <td>NaN</td>\n",
       "      <td>NaN</td>\n",
       "      <td>6260</td>\n",
       "      <td>30</td>\n",
       "      <td>One Way</td>\n",
       "      <td>Monthly Pass</td>\n",
       "    </tr>\n",
       "    <tr>\n",
       "      <th>250</th>\n",
       "      <td>94981056</td>\n",
       "      <td>358</td>\n",
       "      <td>2018-07-01 13:09:00</td>\n",
       "      <td>2018-07-01 19:07:00</td>\n",
       "      <td>3022</td>\n",
       "      <td>34.046070</td>\n",
       "      <td>-118.233093</td>\n",
       "      <td>3000</td>\n",
       "      <td>NaN</td>\n",
       "      <td>NaN</td>\n",
       "      <td>6315</td>\n",
       "      <td>1</td>\n",
       "      <td>One Way</td>\n",
       "      <td>Walk-up</td>\n",
       "    </tr>\n",
       "    <tr>\n",
       "      <th>287</th>\n",
       "      <td>95124251</td>\n",
       "      <td>1440</td>\n",
       "      <td>2018-07-01 13:41:00</td>\n",
       "      <td>2018-07-02 16:49:00</td>\n",
       "      <td>4216</td>\n",
       "      <td>34.023392</td>\n",
       "      <td>-118.479637</td>\n",
       "      <td>3000</td>\n",
       "      <td>NaN</td>\n",
       "      <td>NaN</td>\n",
       "      <td>12420</td>\n",
       "      <td>1</td>\n",
       "      <td>One Way</td>\n",
       "      <td>One Day Pass</td>\n",
       "    </tr>\n",
       "    <tr>\n",
       "      <th>338</th>\n",
       "      <td>94952010</td>\n",
       "      <td>23</td>\n",
       "      <td>2018-07-01 14:44:00</td>\n",
       "      <td>2018-07-01 15:07:00</td>\n",
       "      <td>3000</td>\n",
       "      <td>NaN</td>\n",
       "      <td>NaN</td>\n",
       "      <td>3069</td>\n",
       "      <td>34.05088</td>\n",
       "      <td>-118.248253</td>\n",
       "      <td>12100</td>\n",
       "      <td>1</td>\n",
       "      <td>One Way</td>\n",
       "      <td>One Day Pass</td>\n",
       "    </tr>\n",
       "  </tbody>\n",
       "</table>\n",
       "</div>"
      ],
      "text/plain": [
       "      trip_id  duration           start_time             end_time  \\\n",
       "50   94904101         6  2018-07-01 08:00:00  2018-07-01 08:06:00   \n",
       "198  94931099        30  2018-07-01 12:18:00  2018-07-01 12:48:00   \n",
       "250  94981056       358  2018-07-01 13:09:00  2018-07-01 19:07:00   \n",
       "287  95124251      1440  2018-07-01 13:41:00  2018-07-02 16:49:00   \n",
       "338  94952010        23  2018-07-01 14:44:00  2018-07-01 15:07:00   \n",
       "\n",
       "     start_station  start_lat   start_lon  end_station   end_lat     end_lon  \\\n",
       "50            4215  34.014309 -118.491341         3000       NaN         NaN   \n",
       "198           3032  34.049889 -118.255882         3000       NaN         NaN   \n",
       "250           3022  34.046070 -118.233093         3000       NaN         NaN   \n",
       "287           4216  34.023392 -118.479637         3000       NaN         NaN   \n",
       "338           3000        NaN         NaN         3069  34.05088 -118.248253   \n",
       "\n",
       "     bike_id  plan_duration trip_route_category passholder_type  \n",
       "50     12070              1             One Way    One Day Pass  \n",
       "198     6260             30             One Way    Monthly Pass  \n",
       "250     6315              1             One Way         Walk-up  \n",
       "287    12420              1             One Way    One Day Pass  \n",
       "338    12100              1             One Way    One Day Pass  "
      ]
     },
     "execution_count": 149,
     "metadata": {},
     "output_type": "execute_result"
    }
   ],
   "source": [
    "df[df.isna().any(axis=1)].head()"
   ]
  },
  {
   "cell_type": "code",
   "execution_count": 150,
   "metadata": {},
   "outputs": [
    {
     "data": {
      "text/plain": [
       "trip_id                1838\n",
       "duration               1838\n",
       "start_time             1838\n",
       "end_time               1838\n",
       "start_station          1838\n",
       "start_lat              1525\n",
       "start_lon              1525\n",
       "end_station            1838\n",
       "end_lat                   0\n",
       "end_lon                   0\n",
       "bike_id                1838\n",
       "plan_duration          1838\n",
       "trip_route_category    1838\n",
       "passholder_type        1838\n",
       "dtype: int64"
      ]
     },
     "execution_count": 150,
     "metadata": {},
     "output_type": "execute_result"
    }
   ],
   "source": [
    "df[df['end_station'] == 3000].count()"
   ]
  },
  {
   "cell_type": "markdown",
   "metadata": {},
   "source": [
    "## Fill all rows that have null values with 0 and confirm that no more null values exist int he DataFrame\n",
    "- Reason for filling the null values with 0 is that the longitiude and latitude values are not needed for this assignment therefore rather than loosing the data by dropping the rows we can just change NaN values to 0.\n",
    "- All of the NaN values in the DataFrame are associated with station number 3000. By dropping the rows we will be loosing data for journeys made from and to an entire bike station.\n"
   ]
  },
  {
   "cell_type": "code",
   "execution_count": 211,
   "metadata": {},
   "outputs": [],
   "source": [
    "# Fill in NaN values for long and lat as 0\n",
    "df = df.fillna(0)"
   ]
  },
  {
   "cell_type": "code",
   "execution_count": 212,
   "metadata": {},
   "outputs": [
    {
     "data": {
      "text/plain": [
       "trip_id                0\n",
       "duration               0\n",
       "start_time             0\n",
       "end_time               0\n",
       "start_station          0\n",
       "start_lat              0\n",
       "start_lon              0\n",
       "end_station            0\n",
       "end_lat                0\n",
       "end_lon                0\n",
       "bike_id                0\n",
       "plan_duration          0\n",
       "trip_route_category    0\n",
       "passholder_type        0\n",
       "start_hour             0\n",
       "weekday                0\n",
       "dtype: int64"
      ]
     },
     "execution_count": 212,
     "metadata": {},
     "output_type": "execute_result"
    }
   ],
   "source": [
    "df.isna().sum()"
   ]
  },
  {
   "cell_type": "code",
   "execution_count": 210,
   "metadata": {},
   "outputs": [
    {
     "data": {
      "text/html": [
       "<div>\n",
       "<style scoped>\n",
       "    .dataframe tbody tr th:only-of-type {\n",
       "        vertical-align: middle;\n",
       "    }\n",
       "\n",
       "    .dataframe tbody tr th {\n",
       "        vertical-align: top;\n",
       "    }\n",
       "\n",
       "    .dataframe thead th {\n",
       "        text-align: right;\n",
       "    }\n",
       "</style>\n",
       "<table border=\"1\" class=\"dataframe\">\n",
       "  <thead>\n",
       "    <tr style=\"text-align: right;\">\n",
       "      <th></th>\n",
       "      <th>trip_id</th>\n",
       "      <th>duration</th>\n",
       "      <th>start_time</th>\n",
       "      <th>end_time</th>\n",
       "      <th>start_station</th>\n",
       "      <th>start_lat</th>\n",
       "      <th>start_lon</th>\n",
       "      <th>end_station</th>\n",
       "      <th>end_lat</th>\n",
       "      <th>end_lon</th>\n",
       "      <th>bike_id</th>\n",
       "      <th>plan_duration</th>\n",
       "      <th>trip_route_category</th>\n",
       "      <th>passholder_type</th>\n",
       "      <th>start_hour</th>\n",
       "      <th>weekday</th>\n",
       "    </tr>\n",
       "  </thead>\n",
       "  <tbody>\n",
       "    <tr>\n",
       "      <th>0</th>\n",
       "      <td>94851140</td>\n",
       "      <td>8</td>\n",
       "      <td>2018-07-01 00:04:00</td>\n",
       "      <td>2018-07-01 00:12:00</td>\n",
       "      <td>3058</td>\n",
       "      <td>34.035801</td>\n",
       "      <td>-118.233170</td>\n",
       "      <td>3082</td>\n",
       "      <td>34.046520</td>\n",
       "      <td>-118.237411</td>\n",
       "      <td>6279</td>\n",
       "      <td>30</td>\n",
       "      <td>One Way</td>\n",
       "      <td>Monthly Pass</td>\n",
       "      <td>0</td>\n",
       "      <td>6</td>\n",
       "    </tr>\n",
       "    <tr>\n",
       "      <th>1</th>\n",
       "      <td>94851141</td>\n",
       "      <td>8</td>\n",
       "      <td>2018-07-01 00:04:00</td>\n",
       "      <td>2018-07-01 00:12:00</td>\n",
       "      <td>3058</td>\n",
       "      <td>34.035801</td>\n",
       "      <td>-118.233170</td>\n",
       "      <td>3082</td>\n",
       "      <td>34.046520</td>\n",
       "      <td>-118.237411</td>\n",
       "      <td>6518</td>\n",
       "      <td>365</td>\n",
       "      <td>One Way</td>\n",
       "      <td>Flex Pass</td>\n",
       "      <td>0</td>\n",
       "      <td>6</td>\n",
       "    </tr>\n",
       "    <tr>\n",
       "      <th>2</th>\n",
       "      <td>94851138</td>\n",
       "      <td>15</td>\n",
       "      <td>2018-07-01 00:09:00</td>\n",
       "      <td>2018-07-01 00:24:00</td>\n",
       "      <td>4147</td>\n",
       "      <td>34.145248</td>\n",
       "      <td>-118.150070</td>\n",
       "      <td>4174</td>\n",
       "      <td>34.165291</td>\n",
       "      <td>-118.150970</td>\n",
       "      <td>4823</td>\n",
       "      <td>365</td>\n",
       "      <td>One Way</td>\n",
       "      <td>Monthly Pass</td>\n",
       "      <td>0</td>\n",
       "      <td>6</td>\n",
       "    </tr>\n",
       "    <tr>\n",
       "      <th>3</th>\n",
       "      <td>94851137</td>\n",
       "      <td>7</td>\n",
       "      <td>2018-07-01 00:22:00</td>\n",
       "      <td>2018-07-01 00:29:00</td>\n",
       "      <td>4157</td>\n",
       "      <td>34.140999</td>\n",
       "      <td>-118.132088</td>\n",
       "      <td>4162</td>\n",
       "      <td>34.147499</td>\n",
       "      <td>-118.148010</td>\n",
       "      <td>6115</td>\n",
       "      <td>30</td>\n",
       "      <td>One Way</td>\n",
       "      <td>Monthly Pass</td>\n",
       "      <td>0</td>\n",
       "      <td>6</td>\n",
       "    </tr>\n",
       "    <tr>\n",
       "      <th>4</th>\n",
       "      <td>94851136</td>\n",
       "      <td>35</td>\n",
       "      <td>2018-07-01 00:23:00</td>\n",
       "      <td>2018-07-01 00:58:00</td>\n",
       "      <td>3013</td>\n",
       "      <td>33.779819</td>\n",
       "      <td>-118.263023</td>\n",
       "      <td>3013</td>\n",
       "      <td>33.779819</td>\n",
       "      <td>-118.263023</td>\n",
       "      <td>12055</td>\n",
       "      <td>1</td>\n",
       "      <td>Round Trip</td>\n",
       "      <td>Walk-up</td>\n",
       "      <td>0</td>\n",
       "      <td>6</td>\n",
       "    </tr>\n",
       "  </tbody>\n",
       "</table>\n",
       "</div>"
      ],
      "text/plain": [
       "    trip_id  duration          start_time            end_time  start_station  \\\n",
       "0  94851140         8 2018-07-01 00:04:00 2018-07-01 00:12:00           3058   \n",
       "1  94851141         8 2018-07-01 00:04:00 2018-07-01 00:12:00           3058   \n",
       "2  94851138        15 2018-07-01 00:09:00 2018-07-01 00:24:00           4147   \n",
       "3  94851137         7 2018-07-01 00:22:00 2018-07-01 00:29:00           4157   \n",
       "4  94851136        35 2018-07-01 00:23:00 2018-07-01 00:58:00           3013   \n",
       "\n",
       "   start_lat   start_lon  end_station    end_lat     end_lon  bike_id  \\\n",
       "0  34.035801 -118.233170         3082  34.046520 -118.237411     6279   \n",
       "1  34.035801 -118.233170         3082  34.046520 -118.237411     6518   \n",
       "2  34.145248 -118.150070         4174  34.165291 -118.150970     4823   \n",
       "3  34.140999 -118.132088         4162  34.147499 -118.148010     6115   \n",
       "4  33.779819 -118.263023         3013  33.779819 -118.263023    12055   \n",
       "\n",
       "   plan_duration trip_route_category passholder_type  start_hour  weekday  \n",
       "0             30             One Way    Monthly Pass           0        6  \n",
       "1            365             One Way       Flex Pass           0        6  \n",
       "2            365             One Way    Monthly Pass           0        6  \n",
       "3             30             One Way    Monthly Pass           0        6  \n",
       "4              1          Round Trip         Walk-up           0        6  "
      ]
     },
     "execution_count": 210,
     "metadata": {},
     "output_type": "execute_result"
    }
   ],
   "source": [
    "df.head()"
   ]
  },
  {
   "cell_type": "markdown",
   "metadata": {},
   "source": [
    "## Describe the data for duration and plot a graph based on that data"
   ]
  },
  {
   "cell_type": "code",
   "execution_count": 154,
   "metadata": {},
   "outputs": [
    {
     "data": {
      "text/plain": [
       "count    95283.000000\n",
       "mean        48.318682\n",
       "std        148.316422\n",
       "min          1.000000\n",
       "25%          7.000000\n",
       "50%         15.000000\n",
       "75%         35.000000\n",
       "max       1440.000000\n",
       "Name: duration, dtype: float64"
      ]
     },
     "execution_count": 154,
     "metadata": {},
     "output_type": "execute_result"
    }
   ],
   "source": [
    "df['duration'].describe()"
   ]
  },
  {
   "cell_type": "code",
   "execution_count": 155,
   "metadata": {},
   "outputs": [
    {
     "data": {
      "text/plain": [
       "<matplotlib.axes._subplots.AxesSubplot at 0x7fc0f46d4160>"
      ]
     },
     "execution_count": 155,
     "metadata": {},
     "output_type": "execute_result"
    },
    {
     "data": {
      "image/png": "[encoded data removed]",
      "text/plain": [
       "<Figure size 432x288 with 1 Axes>"
      ]
     },
     "metadata": {
      "needs_background": "light"
     },
     "output_type": "display_data"
    }
   ],
   "source": [
    "sns.distplot(df['duration'], bins = 100)"
   ]
  },
  {
   "cell_type": "markdown",
   "metadata": {},
   "source": [
    "## How the distrubution of duration relates to the passholder type\n",
    "\n",
    "I reckon using a bar plot will make the most sense here to visualise the correlation between the different passholder types and the duration spent. "
   ]
  },
  {
   "cell_type": "code",
   "execution_count": 226,
   "metadata": {},
   "outputs": [
    {
     "name": "stderr",
     "output_type": "stream",
     "text": [
      "/usr/lib/python3.7/site-packages/scipy/stats/stats.py:1713: FutureWarning: Using a non-tuple sequence for multidimensional indexing is deprecated; use `arr[tuple(seq)]` instead of `arr[seq]`. In the future this will be interpreted as an array index, `arr[np.array(seq)]`, which will result either in an error or a different result.\n",
      "  return np.add.reduce(sorted[indexer] * weights, axis=axis) / sumval\n"
     ]
    },
    {
     "data": {
      "text/plain": [
       "<seaborn.axisgrid.FacetGrid at 0x7fc0f40ad240>"
      ]
     },
     "execution_count": 226,
     "metadata": {},
     "output_type": "execute_result"
    },
    {
     "data": {
      "image/png": "[encoded data removed]",
      "text/plain": [
       "<Figure size 360x360 with 1 Axes>"
      ]
     },
     "metadata": {
      "needs_background": "light"
     },
     "output_type": "display_data"
    }
   ],
   "source": [
    "sns.catplot(\n",
    "    x = 'passholder_type',\n",
    "    y = 'duration',\n",
    "    kind = 'bar',\n",
    "    data = df\n",
    ")"
   ]
  },
  {
   "cell_type": "markdown",
   "metadata": {},
   "source": [
    "## Perform a statistical test to check if the mean duration is different between One Day Pass and the Flex Pass passholders. \n",
    "\n",
    "Also meantion any assumptions that you have made by using this test.\n",
    "\n",
    "- H0 = oneday pass duration == flex pass duration\n",
    "\n",
    "- H1 = oneday pass duration != flex pass duration\n",
    "\n",
    "We are set out to nullify/disprove the null hypothesis (H0) and prove the alternative hypothesis (H1)"
   ]
  },
  {
   "cell_type": "code",
   "execution_count": 157,
   "metadata": {},
   "outputs": [],
   "source": [
    "df_oneday = df.loc[(df['passholder_type'] == 'One Day Pass'), 'duration']"
   ]
  },
  {
   "cell_type": "code",
   "execution_count": 158,
   "metadata": {},
   "outputs": [],
   "source": [
    "df_flex = df.loc[(df['passholder_type'] == 'Flex Pass'), 'duration']"
   ]
  },
  {
   "cell_type": "code",
   "execution_count": 165,
   "metadata": {},
   "outputs": [
    {
     "data": {
      "text/plain": [
       "<matplotlib.axes._subplots.AxesSubplot at 0x7fc0f9be6048>"
      ]
     },
     "execution_count": 165,
     "metadata": {},
     "output_type": "execute_result"
    },
    {
     "data": {
      "image/png": "[encoded data removed]",
      "text/plain": [
       "<Figure size 432x288 with 1 Axes>"
      ]
     },
     "metadata": {
      "needs_background": "light"
     },
     "output_type": "display_data"
    }
   ],
   "source": [
    "sns.distplot(df_flex, bins = 100)"
   ]
  },
  {
   "cell_type": "code",
   "execution_count": 217,
   "metadata": {},
   "outputs": [
    {
     "data": {
      "text/plain": [
       "20.09131261889664"
      ]
     },
     "execution_count": 217,
     "metadata": {},
     "output_type": "execute_result"
    }
   ],
   "source": [
    "df_flex.mean()"
   ]
  },
  {
   "cell_type": "code",
   "execution_count": 216,
   "metadata": {},
   "outputs": [
    {
     "data": {
      "text/plain": [
       "76.22778129617902"
      ]
     },
     "execution_count": 216,
     "metadata": {},
     "output_type": "execute_result"
    }
   ],
   "source": [
    "df_oneday.mean()"
   ]
  },
  {
   "cell_type": "code",
   "execution_count": 166,
   "metadata": {},
   "outputs": [
    {
     "name": "stdout",
     "output_type": "stream",
     "text": [
      "Number of flex holders: 1577\n",
      "Number of one day pass holders: 4737\n"
     ]
    }
   ],
   "source": [
    "print('Number of flex holders: ' + str(df_flex.size))\n",
    "print('Number of one day pass holders: ' + str(df_oneday.size))"
   ]
  },
  {
   "cell_type": "code",
   "execution_count": 218,
   "metadata": {},
   "outputs": [],
   "source": [
    "from scipy.stats import ttest_ind"
   ]
  },
  {
   "cell_type": "code",
   "execution_count": 219,
   "metadata": {},
   "outputs": [],
   "source": [
    "test = ttest_ind(df_oneday, df_flex)"
   ]
  },
  {
   "cell_type": "markdown",
   "metadata": {},
   "source": [
    "Based on the large t (statistic) value, it seems to show that there is a difference between the two groups."
   ]
  },
  {
   "cell_type": "code",
   "execution_count": 220,
   "metadata": {},
   "outputs": [
    {
     "data": {
      "text/plain": [
       "13.897993285036403"
      ]
     },
     "execution_count": 220,
     "metadata": {},
     "output_type": "execute_result"
    }
   ],
   "source": [
    "test.statistic"
   ]
  },
  {
   "cell_type": "markdown",
   "metadata": {},
   "source": [
    "In order to validate that t value, we can look at the pvalue.\n",
    "\n",
    "Considering the cut off point for pvalues is typically 5% (0.05), it is clear that the low pvalue from the ttest that we must reject the null hypothesis and accept the alternate hypothesis. This therefore means that the duration means of the one day pass and the flex pass are not the same."
   ]
  },
  {
   "cell_type": "code",
   "execution_count": 221,
   "metadata": {},
   "outputs": [
    {
     "data": {
      "text/plain": [
       "2.8141174842219548e-43"
      ]
     },
     "execution_count": 221,
     "metadata": {},
     "output_type": "execute_result"
    }
   ],
   "source": [
    "test.pvalue"
   ]
  },
  {
   "cell_type": "markdown",
   "metadata": {},
   "source": [
    "## Create a new column in the data frame that gives the hour of the day that each journey started on\n",
    "\n",
    "- Also convert the start_time and end_time columsn to date objects"
   ]
  },
  {
   "cell_type": "code",
   "execution_count": 173,
   "metadata": {},
   "outputs": [],
   "source": [
    "from datetime import datetime"
   ]
  },
  {
   "cell_type": "code",
   "execution_count": 174,
   "metadata": {},
   "outputs": [],
   "source": [
    "timeFormat = '%Y=%m-%d %X'"
   ]
  },
  {
   "cell_type": "markdown",
   "metadata": {},
   "source": [
    "Convert the start_time and end_time columns into datetime objects by using the to_datetime method."
   ]
  },
  {
   "cell_type": "code",
   "execution_count": 175,
   "metadata": {},
   "outputs": [],
   "source": [
    "df['start_time'] = pa.to_datetime(df['start_time'], format='%Y-%m-%d %X')"
   ]
  },
  {
   "cell_type": "code",
   "execution_count": 176,
   "metadata": {},
   "outputs": [],
   "source": [
    "df['end_time'] = pa.to_datetime(df['end_time'])"
   ]
  },
  {
   "cell_type": "code",
   "execution_count": 177,
   "metadata": {},
   "outputs": [],
   "source": [
    "# Need to create a series that holds each starting hour\n",
    "# Lets define a simple method to retrive that value\n",
    "def getHour(datetime):\n",
    "    try:\n",
    "        return datetime.hour\n",
    "    except Exception:\n",
    "        return null\n",
    "\n",
    "start_hour = df['start_time'].apply(getHour)"
   ]
  },
  {
   "cell_type": "code",
   "execution_count": 178,
   "metadata": {},
   "outputs": [],
   "source": [
    "df['start_hour'] = start_hour"
   ]
  },
  {
   "cell_type": "code",
   "execution_count": 179,
   "metadata": {},
   "outputs": [
    {
     "data": {
      "text/plain": [
       "95278    23\n",
       "95279    23\n",
       "95280    23\n",
       "95281    23\n",
       "95282    23\n",
       "Name: start_hour, dtype: int64"
      ]
     },
     "execution_count": 179,
     "metadata": {},
     "output_type": "execute_result"
    }
   ],
   "source": [
    "df['start_hour'].tail()"
   ]
  },
  {
   "cell_type": "code",
   "execution_count": 180,
   "metadata": {},
   "outputs": [],
   "source": [
    "def getWeekday(datetime):\n",
    "    try:\n",
    "        return datetime.weekday()\n",
    "    except Exception:\n",
    "        return null\n",
    "\n",
    "weekday = df['start_time'].apply(getWeekday)"
   ]
  },
  {
   "cell_type": "code",
   "execution_count": 181,
   "metadata": {},
   "outputs": [
    {
     "data": {
      "text/plain": [
       "6    15277\n",
       "4    13804\n",
       "5    13670\n",
       "3    13380\n",
       "2    13115\n",
       "1    13093\n",
       "0    12944\n",
       "Name: start_time, dtype: int64"
      ]
     },
     "execution_count": 181,
     "metadata": {},
     "output_type": "execute_result"
    }
   ],
   "source": [
    "weekday.value_counts()"
   ]
  },
  {
   "cell_type": "code",
   "execution_count": 182,
   "metadata": {},
   "outputs": [],
   "source": [
    "df['weekday'] = weekday"
   ]
  },
  {
   "cell_type": "markdown",
   "metadata": {},
   "source": [
    "## Explore how the duration variable varies between each journey starting hour of the day.\n",
    "\n",
    "- Create a plot to visualise this.\n",
    "- We have the starting hours now stored in the data frame. \n",
    "- Scatter plot might be the best way to represent this as it can show how the journey duration increases(y axis) as we increase the value of the starting hour (x axis)\n"
   ]
  },
  {
   "cell_type": "code",
   "execution_count": 183,
   "metadata": {},
   "outputs": [],
   "source": [
    "import matplotlib.pyplot as plt"
   ]
  },
  {
   "cell_type": "code",
   "execution_count": 184,
   "metadata": {},
   "outputs": [
    {
     "data": {
      "text/plain": [
       "<seaborn.axisgrid.FacetGrid at 0x7fc0f498b748>"
      ]
     },
     "execution_count": 184,
     "metadata": {},
     "output_type": "execute_result"
    },
    {
     "data": {
      "image/png": "[encoded data removed]",
      "text/plain": [
       "<Figure size 360x360 with 1 Axes>"
      ]
     },
     "metadata": {
      "needs_background": "light"
     },
     "output_type": "display_data"
    }
   ],
   "source": [
    "sns.catplot(\n",
    "    x = 'start_hour',\n",
    "    y = 'duration',\n",
    "    data = df,\n",
    "    kind = 'point',\n",
    "    bins = 20\n",
    ")"
   ]
  },
  {
   "cell_type": "code",
   "execution_count": 185,
   "metadata": {},
   "outputs": [],
   "source": [
    "sns.catplot(\n",
    "    x = 'weekday',\n",
    "    y = 'duration',\n",
    "    data= df,\n",
    "    kind = 'point',\n",
    "    bins = 20\n",
    ")"
   ]
  },
  {
   "cell_type": "markdown",
   "metadata": {},
   "source": [
    "Weekday being in index form 0 to 6 being Monday to Sunday."
   ]
  },
  {
   "cell_type": "markdown",
   "metadata": {},
   "source": [
    "## Calculate the total number of each type of passholder travelling on each day of the week. \n",
    "- Discuss the results\n",
    "- Probably need to use numpy to calculate this\n",
    "- this is probably a 2 dimentional thing\n",
    "- Each pass type -> Values from Monday to Sunday (0 to 6)\n",
    "- Series of size 7 (for each day of the week)\n",
    "- Multiple series for the different pass types.\n",
    "\n",
    "Will need to figure out what is the best way to attain this data. \n",
    "\n",
    "- Start_time and passholder_type are the two important values.\n",
    "- Can make a method that will filter for specified passholder_type\n",
    "- From there, find out how many entires have values that fall on each day of the week."
   ]
  },
  {
   "cell_type": "code",
   "execution_count": 186,
   "metadata": {},
   "outputs": [],
   "source": [
    "def idk(passholder_type):\n",
    "    # Lets filter for the passholder type\n",
    "    tmp = df[df['passholder_type'] == passholder_type]\n",
    "    tmp = tmp['start_time'].apply(getWeekday).value_counts().sort_index()\n",
    "    return tmp.rename(passholder_type)\n",
    "\n",
    "new_df = pa.DataFrame()"
   ]
  },
  {
   "cell_type": "code",
   "execution_count": 187,
   "metadata": {},
   "outputs": [],
   "source": [
    "# Lets get a series of all the passholder_type\n",
    "for p in df.passholder_type.unique():\n",
    "    new_df = new_df.append(idk(p))"
   ]
  },
  {
   "cell_type": "code",
   "execution_count": 188,
   "metadata": {},
   "outputs": [
    {
     "data": {
      "text/html": [
       "<div>\n",
       "<style scoped>\n",
       "    .dataframe tbody tr th:only-of-type {\n",
       "        vertical-align: middle;\n",
       "    }\n",
       "\n",
       "    .dataframe tbody tr th {\n",
       "        vertical-align: top;\n",
       "    }\n",
       "\n",
       "    .dataframe thead th {\n",
       "        text-align: right;\n",
       "    }\n",
       "</style>\n",
       "<table border=\"1\" class=\"dataframe\">\n",
       "  <thead>\n",
       "    <tr style=\"text-align: right;\">\n",
       "      <th></th>\n",
       "      <th>0</th>\n",
       "      <th>1</th>\n",
       "      <th>2</th>\n",
       "      <th>3</th>\n",
       "      <th>4</th>\n",
       "      <th>5</th>\n",
       "      <th>6</th>\n",
       "    </tr>\n",
       "  </thead>\n",
       "  <tbody>\n",
       "    <tr>\n",
       "      <th>Monthly Pass</th>\n",
       "      <td>6882.0</td>\n",
       "      <td>7375.0</td>\n",
       "      <td>7017.0</td>\n",
       "      <td>7196.0</td>\n",
       "      <td>6775.0</td>\n",
       "      <td>4085.0</td>\n",
       "      <td>4637.0</td>\n",
       "    </tr>\n",
       "    <tr>\n",
       "      <th>Flex Pass</th>\n",
       "      <td>218.0</td>\n",
       "      <td>235.0</td>\n",
       "      <td>235.0</td>\n",
       "      <td>245.0</td>\n",
       "      <td>263.0</td>\n",
       "      <td>178.0</td>\n",
       "      <td>203.0</td>\n",
       "    </tr>\n",
       "    <tr>\n",
       "      <th>Walk-up</th>\n",
       "      <td>5297.0</td>\n",
       "      <td>5026.0</td>\n",
       "      <td>5289.0</td>\n",
       "      <td>5526.0</td>\n",
       "      <td>6232.0</td>\n",
       "      <td>8528.0</td>\n",
       "      <td>9092.0</td>\n",
       "    </tr>\n",
       "    <tr>\n",
       "      <th>One Day Pass</th>\n",
       "      <td>547.0</td>\n",
       "      <td>457.0</td>\n",
       "      <td>574.0</td>\n",
       "      <td>413.0</td>\n",
       "      <td>534.0</td>\n",
       "      <td>869.0</td>\n",
       "      <td>1343.0</td>\n",
       "    </tr>\n",
       "    <tr>\n",
       "      <th>Annual Pass</th>\n",
       "      <td>NaN</td>\n",
       "      <td>NaN</td>\n",
       "      <td>NaN</td>\n",
       "      <td>NaN</td>\n",
       "      <td>NaN</td>\n",
       "      <td>10.0</td>\n",
       "      <td>2.0</td>\n",
       "    </tr>\n",
       "  </tbody>\n",
       "</table>\n",
       "</div>"
      ],
      "text/plain": [
       "                   0       1       2       3       4       5       6\n",
       "Monthly Pass  6882.0  7375.0  7017.0  7196.0  6775.0  4085.0  4637.0\n",
       "Flex Pass      218.0   235.0   235.0   245.0   263.0   178.0   203.0\n",
       "Walk-up       5297.0  5026.0  5289.0  5526.0  6232.0  8528.0  9092.0\n",
       "One Day Pass   547.0   457.0   574.0   413.0   534.0   869.0  1343.0\n",
       "Annual Pass      NaN     NaN     NaN     NaN     NaN    10.0     2.0"
      ]
     },
     "execution_count": 188,
     "metadata": {},
     "output_type": "execute_result"
    }
   ],
   "source": [
    "new_df"
   ]
  },
  {
   "cell_type": "markdown",
   "metadata": {},
   "source": [
    "# Consider the data as a network of stations\n",
    "\n",
    "- Has edges with weights corresponding to the total number of journeys made between them\n",
    "\n",
    "## Produce a visualisation of the network and discuss the output\n",
    "\n",
    "### Assumption\n",
    "\n",
    "- Assuming that this is undirected data as it is  not specified in the question."
   ]
  },
  {
   "cell_type": "code",
   "execution_count": 189,
   "metadata": {},
   "outputs": [],
   "source": [
    "import networkx as nx"
   ]
  },
  {
   "cell_type": "code",
   "execution_count": 192,
   "metadata": {},
   "outputs": [
    {
     "data": {
      "text/html": [
       "<div>\n",
       "<style scoped>\n",
       "    .dataframe tbody tr th:only-of-type {\n",
       "        vertical-align: middle;\n",
       "    }\n",
       "\n",
       "    .dataframe tbody tr th {\n",
       "        vertical-align: top;\n",
       "    }\n",
       "\n",
       "    .dataframe thead th {\n",
       "        text-align: right;\n",
       "    }\n",
       "</style>\n",
       "<table border=\"1\" class=\"dataframe\">\n",
       "  <thead>\n",
       "    <tr style=\"text-align: right;\">\n",
       "      <th>end_station</th>\n",
       "      <th>3000</th>\n",
       "      <th>3005</th>\n",
       "      <th>3006</th>\n",
       "      <th>3007</th>\n",
       "      <th>3008</th>\n",
       "      <th>3010</th>\n",
       "      <th>3011</th>\n",
       "      <th>3013</th>\n",
       "      <th>3014</th>\n",
       "      <th>3016</th>\n",
       "      <th>...</th>\n",
       "      <th>4220</th>\n",
       "      <th>4227</th>\n",
       "      <th>4244</th>\n",
       "      <th>4245</th>\n",
       "      <th>4246</th>\n",
       "      <th>4248</th>\n",
       "      <th>4249</th>\n",
       "      <th>4250</th>\n",
       "      <th>4254</th>\n",
       "      <th>4267</th>\n",
       "    </tr>\n",
       "    <tr>\n",
       "      <th>start_station</th>\n",
       "      <th></th>\n",
       "      <th></th>\n",
       "      <th></th>\n",
       "      <th></th>\n",
       "      <th></th>\n",
       "      <th></th>\n",
       "      <th></th>\n",
       "      <th></th>\n",
       "      <th></th>\n",
       "      <th></th>\n",
       "      <th></th>\n",
       "      <th></th>\n",
       "      <th></th>\n",
       "      <th></th>\n",
       "      <th></th>\n",
       "      <th></th>\n",
       "      <th></th>\n",
       "      <th></th>\n",
       "      <th></th>\n",
       "      <th></th>\n",
       "      <th></th>\n",
       "    </tr>\n",
       "  </thead>\n",
       "  <tbody>\n",
       "    <tr>\n",
       "      <th>3000</th>\n",
       "      <td>313</td>\n",
       "      <td>11</td>\n",
       "      <td>5</td>\n",
       "      <td>10</td>\n",
       "      <td>2</td>\n",
       "      <td>1</td>\n",
       "      <td>0</td>\n",
       "      <td>1</td>\n",
       "      <td>3</td>\n",
       "      <td>2</td>\n",
       "      <td>...</td>\n",
       "      <td>0</td>\n",
       "      <td>0</td>\n",
       "      <td>0</td>\n",
       "      <td>0</td>\n",
       "      <td>0</td>\n",
       "      <td>0</td>\n",
       "      <td>0</td>\n",
       "      <td>0</td>\n",
       "      <td>0</td>\n",
       "      <td>0</td>\n",
       "    </tr>\n",
       "    <tr>\n",
       "      <th>3005</th>\n",
       "      <td>93</td>\n",
       "      <td>306</td>\n",
       "      <td>74</td>\n",
       "      <td>49</td>\n",
       "      <td>91</td>\n",
       "      <td>29</td>\n",
       "      <td>53</td>\n",
       "      <td>0</td>\n",
       "      <td>36</td>\n",
       "      <td>4</td>\n",
       "      <td>...</td>\n",
       "      <td>19</td>\n",
       "      <td>5</td>\n",
       "      <td>4</td>\n",
       "      <td>17</td>\n",
       "      <td>19</td>\n",
       "      <td>11</td>\n",
       "      <td>13</td>\n",
       "      <td>18</td>\n",
       "      <td>7</td>\n",
       "      <td>1</td>\n",
       "    </tr>\n",
       "    <tr>\n",
       "      <th>3006</th>\n",
       "      <td>17</td>\n",
       "      <td>75</td>\n",
       "      <td>133</td>\n",
       "      <td>35</td>\n",
       "      <td>37</td>\n",
       "      <td>11</td>\n",
       "      <td>16</td>\n",
       "      <td>0</td>\n",
       "      <td>10</td>\n",
       "      <td>0</td>\n",
       "      <td>...</td>\n",
       "      <td>13</td>\n",
       "      <td>12</td>\n",
       "      <td>0</td>\n",
       "      <td>1</td>\n",
       "      <td>3</td>\n",
       "      <td>2</td>\n",
       "      <td>4</td>\n",
       "      <td>3</td>\n",
       "      <td>8</td>\n",
       "      <td>0</td>\n",
       "    </tr>\n",
       "    <tr>\n",
       "      <th>3007</th>\n",
       "      <td>29</td>\n",
       "      <td>76</td>\n",
       "      <td>51</td>\n",
       "      <td>113</td>\n",
       "      <td>56</td>\n",
       "      <td>3</td>\n",
       "      <td>32</td>\n",
       "      <td>0</td>\n",
       "      <td>15</td>\n",
       "      <td>4</td>\n",
       "      <td>...</td>\n",
       "      <td>8</td>\n",
       "      <td>2</td>\n",
       "      <td>2</td>\n",
       "      <td>1</td>\n",
       "      <td>3</td>\n",
       "      <td>2</td>\n",
       "      <td>7</td>\n",
       "      <td>1</td>\n",
       "      <td>2</td>\n",
       "      <td>0</td>\n",
       "    </tr>\n",
       "    <tr>\n",
       "      <th>3008</th>\n",
       "      <td>17</td>\n",
       "      <td>104</td>\n",
       "      <td>39</td>\n",
       "      <td>52</td>\n",
       "      <td>143</td>\n",
       "      <td>6</td>\n",
       "      <td>87</td>\n",
       "      <td>0</td>\n",
       "      <td>63</td>\n",
       "      <td>3</td>\n",
       "      <td>...</td>\n",
       "      <td>11</td>\n",
       "      <td>2</td>\n",
       "      <td>0</td>\n",
       "      <td>3</td>\n",
       "      <td>12</td>\n",
       "      <td>17</td>\n",
       "      <td>12</td>\n",
       "      <td>22</td>\n",
       "      <td>8</td>\n",
       "      <td>2</td>\n",
       "    </tr>\n",
       "  </tbody>\n",
       "</table>\n",
       "<p>5 rows × 128 columns</p>\n",
       "</div>"
      ],
      "text/plain": [
       "end_station    3000  3005  3006  3007  3008  3010  3011  3013  3014  3016  \\\n",
       "start_station                                                               \n",
       "3000            313    11     5    10     2     1     0     1     3     2   \n",
       "3005             93   306    74    49    91    29    53     0    36     4   \n",
       "3006             17    75   133    35    37    11    16     0    10     0   \n",
       "3007             29    76    51   113    56     3    32     0    15     4   \n",
       "3008             17   104    39    52   143     6    87     0    63     3   \n",
       "\n",
       "end_station    ...   4220  4227  4244  4245  4246  4248  4249  4250  4254  \\\n",
       "start_station  ...                                                          \n",
       "3000           ...      0     0     0     0     0     0     0     0     0   \n",
       "3005           ...     19     5     4    17    19    11    13    18     7   \n",
       "3006           ...     13    12     0     1     3     2     4     3     8   \n",
       "3007           ...      8     2     2     1     3     2     7     1     2   \n",
       "3008           ...     11     2     0     3    12    17    12    22     8   \n",
       "\n",
       "end_station    4267  \n",
       "start_station        \n",
       "3000              0  \n",
       "3005              1  \n",
       "3006              0  \n",
       "3007              0  \n",
       "3008              2  \n",
       "\n",
       "[5 rows x 128 columns]"
      ]
     },
     "execution_count": 192,
     "metadata": {},
     "output_type": "execute_result"
    }
   ],
   "source": [
    "# df = df.groupby(df.columns.tolist()).size().reset_index().rename(columns={0:'count'})\n",
    "\n",
    "# Use crosstab to create an adjacency matrix to create a network from\n",
    "stations = pa.crosstab(df.start_station, df.end_station, margins=False)\n",
    "stations.head()"
   ]
  },
  {
   "cell_type": "code",
   "execution_count": 193,
   "metadata": {},
   "outputs": [
    {
     "name": "stdout",
     "output_type": "stream",
     "text": [
      "Name: Graph of station journeys\n",
      "Type: Graph\n",
      "Number of nodes: 128\n",
      "Number of edges: 2719\n",
      "Average degree:  42.4844\n"
     ]
    }
   ],
   "source": [
    "g = nx.from_pandas_adjacency(stations)\n",
    "g.name = 'Graph of station journeys'\n",
    "print(nx.info(g))"
   ]
  },
  {
   "cell_type": "code",
   "execution_count": 209,
   "metadata": {},
   "outputs": [
    {
     "data": {
      "image/png": "[encoded data removed]",
      "text/plain": [
       "<Figure size 432x288 with 1 Axes>"
      ]
     },
     "metadata": {},
     "output_type": "display_data"
    }
   ],
   "source": [
    "# Using kamada kawai layout to force directed graphs\n",
    "layout = nx.kamada_kawai_layout(g)\n",
    "nx.draw(g, pod=layout, node_size=150, alpha=0.5)"
   ]
  },
  {
   "cell_type": "markdown",
   "metadata": {},
   "source": [
    "### Discuss the output\n",
    "\n",
    "From the visualisation of the network using a layout that forces direction we can see how there are two large 'blobs' with a smaller concentrated one close by. Many of the journeys are made between the three main hotspots which can probably indicate much busier/concenrated populations of poeple as there are more stations there and are where most of the journeys take place. Smaller stations can be seen scattered away from the main two hotspots which suggests that these are areas with either fewer people or fewer people who use bikes and the bike stations."
   ]
  },
  {
   "cell_type": "markdown",
   "metadata": {},
   "source": [
    "## Calculate the statistics of the network.\n",
    "\n",
    "- Plot them where relevant\n",
    "- Discuss the results"
   ]
  },
  {
   "cell_type": "code",
   "execution_count": 195,
   "metadata": {},
   "outputs": [
    {
     "name": "stdout",
     "output_type": "stream",
     "text": [
      "Diameter: 4\n",
      "Connected components: <generator object connected_components at 0x7fc0f2f0e840>\n"
     ]
    }
   ],
   "source": [
    "diameter = nx.diameter(g)\n",
    "connected_components = nx.connected_components(g)\n",
    "print('Diameter: ' + str(diameter))\n",
    "print('Connected components: ' + str(connected_components))"
   ]
  },
  {
   "cell_type": "markdown",
   "metadata": {},
   "source": [
    "### Degree distributions"
   ]
  },
  {
   "cell_type": "code",
   "execution_count": 196,
   "metadata": {},
   "outputs": [
    {
     "data": {
      "text/plain": [
       "Text(0.5, 0, 'Degree')"
      ]
     },
     "execution_count": 196,
     "metadata": {},
     "output_type": "execute_result"
    },
    {
     "data": {
      "image/png": "[encoded data removed]",
      "text/plain": [
       "<Figure size 432x288 with 1 Axes>"
      ]
     },
     "metadata": {
      "needs_background": "light"
     },
     "output_type": "display_data"
    }
   ],
   "source": [
    "# Lets create a degree distributions\n",
    "ddist = nx.degree_histogram(g)[1:]\n",
    "plt.loglog(range(1, len(ddist) + 1), ddist, 'o')\n",
    "plt.ylabel('Frequency')\n",
    "plt.xlabel('Degree')"
   ]
  },
  {
   "cell_type": "markdown",
   "metadata": {},
   "source": [
    "### Clustering coefficient"
   ]
  },
  {
   "cell_type": "code",
   "execution_count": 197,
   "metadata": {},
   "outputs": [
    {
     "data": {
      "text/plain": [
       "Text(0.5, 0, 'Clutering coeffficient')"
      ]
     },
     "execution_count": 197,
     "metadata": {},
     "output_type": "execute_result"
    },
    {
     "data": {
      "image/png": "[encoded data removed]",
      "text/plain": [
       "<Figure size 432x288 with 1 Axes>"
      ]
     },
     "metadata": {
      "needs_background": "light"
     },
     "output_type": "display_data"
    }
   ],
   "source": [
    "cc = nx.clustering(g)\n",
    "plt.hist(list(cc.values()),bins=20)\n",
    "plt.xlabel('Clutering coeffficient')"
   ]
  },
  {
   "cell_type": "markdown",
   "metadata": {},
   "source": [
    "The histogram showing the clustering coefficient shows most nodes have a high value."
   ]
  },
  {
   "cell_type": "markdown",
   "metadata": {},
   "source": [
    "# Task 2"
   ]
  },
  {
   "cell_type": "code",
   "execution_count": 198,
   "metadata": {},
   "outputs": [],
   "source": [
    "from sklearn.mixture import GaussianMixture"
   ]
  },
  {
   "cell_type": "code",
   "execution_count": 199,
   "metadata": {},
   "outputs": [],
   "source": [
    "seeds_df = pa.read_csv('./data/seeds.csv')"
   ]
  },
  {
   "cell_type": "code",
   "execution_count": 200,
   "metadata": {},
   "outputs": [],
   "source": [
    "gmm = GaussianMixture(2)"
   ]
  },
  {
   "cell_type": "code",
   "execution_count": 201,
   "metadata": {},
   "outputs": [],
   "source": [
    "fit = gmm.fit(seeds_df[['compactness', 'groove length']])\n",
    "predict = gmm.predict(seeds_df[['compactness', 'groove length']])"
   ]
  },
  {
   "cell_type": "code",
   "execution_count": 202,
   "metadata": {},
   "outputs": [
    {
     "data": {
      "text/plain": [
       "<matplotlib.collections.PathCollection at 0x7fc0f9f325c0>"
      ]
     },
     "execution_count": 202,
     "metadata": {},
     "output_type": "execute_result"
    },
    {
     "data": {
      "image/png": "[encoded data removed]",
      "text/plain": [
       "<Figure size 432x288 with 1 Axes>"
      ]
     },
     "metadata": {
      "needs_background": "light"
     },
     "output_type": "display_data"
    }
   ],
   "source": [
    "plt.scatter(seeds_df['compactness'], seeds_df['groove length'], c = predict)"
   ]
  },
  {
   "cell_type": "code",
   "execution_count": 203,
   "metadata": {},
   "outputs": [],
   "source": [
    "# Bic peanalises more than Aic"
   ]
  },
  {
   "cell_type": "code",
   "execution_count": 204,
   "metadata": {},
   "outputs": [],
   "source": [
    "x_values = []\n",
    "model_aic = []\n",
    "model_bic = []\n",
    "\n",
    "# k is the number of parameters in the model\n",
    "for k in range(1, 10):\n",
    "    mixturemodel = GaussianMixture(k)\n",
    "    mixturemodel.fit(seeds_df[['compactness', 'groove length']])\n",
    "    model_aic.append(mixturemodel.aic(seeds_df[['compactness', 'groove length']]))\n",
    "    model_bic.append(mixturemodel.bic(seeds_df[['compactness', 'groove length']]))\n",
    "    x_values.append(k)"
   ]
  },
  {
   "cell_type": "code",
   "execution_count": 205,
   "metadata": {},
   "outputs": [
    {
     "data": {
      "text/plain": [
       "Text(0, 0.5, 'AIC value')"
      ]
     },
     "execution_count": 205,
     "metadata": {},
     "output_type": "execute_result"
    },
    {
     "data": {
      "image/png": "[encoded data removed]",
      "text/plain": [
       "<Figure size 432x288 with 1 Axes>"
      ]
     },
     "metadata": {
      "needs_background": "light"
     },
     "output_type": "display_data"
    }
   ],
   "source": [
    "plt.plot(x_values, model_aic)\n",
    "plt.xlabel('Number of clusters')\n",
    "plt.ylabel('AIC value')"
   ]
  },
  {
   "cell_type": "code",
   "execution_count": 206,
   "metadata": {},
   "outputs": [
    {
     "data": {
      "text/plain": [
       "Text(0, 0.5, 'BIC value')"
      ]
     },
     "execution_count": 206,
     "metadata": {},
     "output_type": "execute_result"
    },
    {
     "data": {
      "image/png": "[encoded data removed]",
      "text/plain": [
       "<Figure size 432x288 with 1 Axes>"
      ]
     },
     "metadata": {
      "needs_background": "light"
     },
     "output_type": "display_data"
    }
   ],
   "source": [
    "plt.plot(x_values, model_bic)\n",
    "plt.xlabel('Number of clusters')\n",
    "plt.ylabel('BIC value')"
   ]
  },
  {
   "cell_type": "markdown",
   "metadata": {},
   "source": [
    "The best cluster value (k value) to use would be 2 as this results in the lowest AIC/BIC value. The lowest value being found at 2 clusters (or sample sizes), for both AIC and BIC, shows that this is the value that best represents the data. "
   ]
  }
 ],
 "metadata": {
  "kernelspec": {
   "display_name": "Python 3",
   "language": "python",
   "name": "python3"
  },
  "language_info": {
   "codemirror_mode": {
    "name": "ipython",
    "version": 3
   },
   "file_extension": ".py",
   "mimetype": "text/x-python",
   "name": "python",
   "nbconvert_exporter": "python",
   "pygments_lexer": "ipython3",
   "version": "3.7.1"
  }
 },
 "nbformat": 4,
 "nbformat_minor": 2
}
